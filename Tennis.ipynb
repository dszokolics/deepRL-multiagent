{
 "cells": [
  {
   "cell_type": "markdown",
   "metadata": {},
   "source": [
    "# Collaboration and Competition\n",
    "\n",
    "---\n",
    "\n",
    "You are welcome to use this coding environment to train your agent for the project.  Follow the instructions below to get started!\n",
    "\n",
    "### 1. Start the Environment\n",
    "\n",
    "Run the next code cell to install a few packages.  This line will take a few minutes to run!"
   ]
  },
  {
   "cell_type": "code",
   "execution_count": 1,
   "metadata": {
    "scrolled": false
   },
   "outputs": [
    {
     "name": "stdout",
     "output_type": "stream",
     "text": [
      "\u001b[31mtensorflow 1.7.1 has requirement numpy>=1.13.3, but you'll have numpy 1.12.1 which is incompatible.\u001b[0m\r\n",
      "\u001b[31mipython 6.5.0 has requirement prompt-toolkit<2.0.0,>=1.0.15, but you'll have prompt-toolkit 3.0.18 which is incompatible.\u001b[0m\r\n"
     ]
    }
   ],
   "source": [
    "!pip -q install ./python"
   ]
  },
  {
   "cell_type": "markdown",
   "metadata": {},
   "source": [
    "The environment is already saved in the Workspace and can be accessed at the file path provided below. "
   ]
  },
  {
   "cell_type": "code",
   "execution_count": 2,
   "metadata": {},
   "outputs": [
    {
     "name": "stderr",
     "output_type": "stream",
     "text": [
      "INFO:unityagents:\n",
      "'Academy' started successfully!\n",
      "Unity Academy name: Academy\n",
      "        Number of Brains: 1\n",
      "        Number of External Brains : 1\n",
      "        Lesson number : 0\n",
      "        Reset Parameters :\n",
      "\t\t\n",
      "Unity brain name: TennisBrain\n",
      "        Number of Visual Observations (per agent): 0\n",
      "        Vector Observation space type: continuous\n",
      "        Vector Observation space size (per agent): 8\n",
      "        Number of stacked Vector Observation: 3\n",
      "        Vector Action space type: continuous\n",
      "        Vector Action space size (per agent): 2\n",
      "        Vector Action descriptions: , \n"
     ]
    }
   ],
   "source": [
    "from unityagents import UnityEnvironment\n",
    "import numpy as np\n",
    "\n",
    "env = UnityEnvironment(file_name=\"/data/Tennis_Linux_NoVis/Tennis\")"
   ]
  },
  {
   "cell_type": "markdown",
   "metadata": {},
   "source": [
    "Environments contain **_brains_** which are responsible for deciding the actions of their associated agents. Here we check for the first brain available, and set it as the default brain we will be controlling from Python."
   ]
  },
  {
   "cell_type": "code",
   "execution_count": 3,
   "metadata": {},
   "outputs": [],
   "source": [
    "# get the default brain\n",
    "brain_name = env.brain_names[0]\n",
    "brain = env.brains[brain_name]"
   ]
  },
  {
   "cell_type": "markdown",
   "metadata": {},
   "source": [
    "### 2. Examine the State and Action Spaces\n",
    "\n",
    "Run the code cell below to print some information about the environment."
   ]
  },
  {
   "cell_type": "code",
   "execution_count": 4,
   "metadata": {},
   "outputs": [
    {
     "name": "stdout",
     "output_type": "stream",
     "text": [
      "Number of agents: 2\n",
      "Size of each action: 2\n",
      "There are 2 agents. Each observes a state with length: 24\n",
      "The state for the first agent looks like: [ 0.          0.          0.          0.          0.          0.          0.\n",
      "  0.          0.          0.          0.          0.          0.          0.\n",
      "  0.          0.         -6.65278625 -1.5        -0.          0.\n",
      "  6.83172083  6.         -0.          0.        ]\n"
     ]
    }
   ],
   "source": [
    "# reset the environment\n",
    "env_info = env.reset(train_mode=True)[brain_name]\n",
    "\n",
    "# number of agents \n",
    "num_agents = len(env_info.agents)\n",
    "print('Number of agents:', num_agents)\n",
    "\n",
    "# size of each action\n",
    "action_size = brain.vector_action_space_size\n",
    "print('Size of each action:', action_size)\n",
    "\n",
    "# examine the state space \n",
    "states = env_info.vector_observations\n",
    "state_size = states.shape[1]\n",
    "print('There are {} agents. Each observes a state with length: {}'.format(states.shape[0], state_size))\n",
    "print('The state for the first agent looks like:', states[0])"
   ]
  },
  {
   "cell_type": "markdown",
   "metadata": {},
   "source": [
    "### 3. It's Your Turn!\n",
    "\n",
    "Now it's your turn to train your own agent to solve the environment!  A few **important notes**:\n",
    "- When training the environment, set `train_mode=True`, so that the line for resetting the environment looks like the following:\n",
    "```python\n",
    "env_info = env.reset(train_mode=True)[brain_name]\n",
    "```\n",
    "- To structure your work, you're welcome to work directly in this Jupyter notebook, or you might like to start over with a new file!  You can see the list of files in the workspace by clicking on **_Jupyter_** in the top left corner of the notebook.\n",
    "- In this coding environment, you will not be able to watch the agents while they are training.  However, **_after training the agents_**, you can download the saved model weights to watch the agents on your own machine! "
   ]
  },
  {
   "cell_type": "code",
   "execution_count": 5,
   "metadata": {},
   "outputs": [],
   "source": [
    "import torch\n",
    "import numpy as np\n",
    "\n",
    "from buffer import ReplayBuffer\n",
    "from collections import deque\n",
    "from maddpg import MADDPG\n",
    "\n",
    "\n",
    "def seeding(seed=3):\n",
    "    \"\"\"Set the seeds.\"\"\"\n",
    "    np.random.seed(seed)\n",
    "    torch.manual_seed(seed)\n",
    "\n",
    "\n",
    "class Experiment:\n",
    "    \"\"\"Experiment with MADDP Agent\n",
    "    \n",
    "    Args:\n",
    "        params (dict): Parameters for the agent, noise and buffer\n",
    "        env (UnityEnvironment): Environment\n",
    "        brain_name (str): Name of the brain used for the experiment\n",
    "        n_episodes (int): Maximum number of episodes to play\n",
    "        checkpoint_path (str): Path used for saving parameters\n",
    "    \n",
    "    \"\"\"\n",
    "    def __init__(self, params, env, brain_name, n_episodes=10_000, checkpoint_path='checkpoints/agent'):\n",
    "        self.params = params\n",
    "        self.env = env\n",
    "        self.brain_name = brain_name\n",
    "        self.n_episodes = n_episodes\n",
    "        self.checkpoint_path = checkpoint_path\n",
    "\n",
    "        # Get environment info\n",
    "        brain = env.brains[self.brain_name]\n",
    "        env_info = env.reset(train_mode=True)[self.brain_name]\n",
    "        self.num_agents = len(env_info.agents)\n",
    "        self.action_size = brain.vector_action_space_size\n",
    "        self.state_size = env_info.vector_observations.shape[1]\n",
    "\n",
    "        # Set the random seed\n",
    "        seeding(params[\"random_seed\"])\n",
    "\n",
    "        # Initialize variables for score tracking\n",
    "        self.scorer = Scorer(num_agents, solved_threshold=0.5)\n",
    "\n",
    "        # Learning params\n",
    "        self.steps_before_noise_reduction = params[\"noise_params\"][\"initialization_steps\"]\n",
    "        self.initialization_episodes = params[\"initialization_episodes\"]\n",
    "        self.batch_size = params[\"batch_size\"]\n",
    "        self.update_every = params[\"update_every\"]\n",
    "        self.update_batch_number = params[\"update_batch_number\"]\n",
    "        \n",
    "        self.step = 0\n",
    "\n",
    "        # Create agent and buffer\n",
    "        self.agent = MADDPG(\n",
    "            self.state_size, self.action_size, params[\"random_seed\"], self.num_agents,\n",
    "            params[\"agent_params\"], params[\"network_params\"], params[\"noise_params\"]\n",
    "        )\n",
    "        self.buffer = ReplayBuffer(params[\"buffer_size\"])\n",
    "        \n",
    "        print(\"Experiment setup done\")\n",
    "        \n",
    "    def run(self):\n",
    "        \"\"\"Run the experiment.\n",
    "        \n",
    "        Returns:\n",
    "            list: Scores of each agent for each episodes.\n",
    "            \n",
    "        \"\"\"\n",
    "        for i_episode in range(1, self.initialization_episodes + self.n_episodes + 1):\n",
    "            solved = self.play_episode(i_episode)\n",
    "            if solved:\n",
    "                self.agent.save(self.checkpoint_path)\n",
    "                print(\n",
    "                    \"\\rEnvironment solved in {} episodes\\tAverage Score: {:.4f}\"\n",
    "                    .format(i_episode, self.scorer.average_score)\n",
    "                )\n",
    "                break\n",
    "        \n",
    "        return self.scorer.scores\n",
    "            \n",
    "    def play_episode(self, i_episode):\n",
    "        \"\"\"Play one episode.\n",
    "        \n",
    "        Args:\n",
    "            i_episode (int): Number of the actual episode\n",
    "            \n",
    "        \"\"\"\n",
    "        self.scorer.start_episode()\n",
    "        states = self.initialize_episode()\n",
    "        \n",
    "        while True:\n",
    "            # The agent acts\n",
    "            if i_episode <= self.initialization_episodes:\n",
    "                actions_array = np.random.uniform(-1, 1, 4).reshape(self.num_agents, self.action_size) \n",
    "            else:\n",
    "                actions = self.agent.act(torch.from_numpy(np.array(states)).float())\n",
    "                actions_array = torch.stack(actions).detach().numpy().squeeze()\n",
    "\n",
    "            # Observe the environment\n",
    "            env_info = self.env.step(actions_array)[self.brain_name]\n",
    "\n",
    "            next_obs = env_info.vector_observations\n",
    "            next_states = [agent_state for agent_state in next_obs]\n",
    "\n",
    "            rewards = np.array(env_info.rewards) \n",
    "            dones = np.array(env_info.local_done)\n",
    "\n",
    "            transition = ([states, actions_array, rewards, next_states, dones])\n",
    "            self.buffer.push(transition)\n",
    "\n",
    "            self.scorer.add_rewards(rewards)\n",
    "            states = next_states\n",
    "\n",
    "            # Break if episode finished\n",
    "            if np.any(dones):\n",
    "                break\n",
    "                \n",
    "            # The agent learns\n",
    "            if (\n",
    "                len(self.buffer) >= self.batch_size\n",
    "                and i_episode > self.initialization_episodes\n",
    "                and self.step % self.update_every == 0\n",
    "            ):\n",
    "                for _ in range(self.update_batch_number):\n",
    "                    for agent_num in range(self.num_agents): \n",
    "                        samples = self.buffer.sample(self.batch_size)\n",
    "                        self.agent.update(samples, agent_num)\n",
    "        \n",
    "            if i_episode > self.initialization_episodes:\n",
    "                self.step += 1\n",
    "\n",
    "        # Collect the scores\n",
    "        self.scorer.finish_episode()\n",
    "\n",
    "        if i_episode > self.initialization_episodes:\n",
    "            if self.step > self.steps_before_noise_reduction:\n",
    "                self.agent.reduce_noise()\n",
    "\n",
    "            if i_episode % 100 == 0:\n",
    "                print(\n",
    "                    \"\\rEpisode {}\\tAverage Score: {:.4f}\\tNoise Scale: {:.4f}\"\n",
    "                    .format(i_episode, self.scorer.average_score, self.agent.maddpg_agent[0].noise.scale)\n",
    "                )\n",
    "\n",
    "        elif i_episode == self.initialization_episodes:\n",
    "            print(\"Initialization done\")\n",
    "\n",
    "        # The environment is solved if the average score for the last 100 episodes is at least 0.5\n",
    "        return self.scorer.solved\n",
    "    \n",
    "    def initialize_episode(self):\n",
    "        \"\"\"Reset the environment and get the initial state\n",
    "        \n",
    "        Returns:\n",
    "            list of torch.FloatTensor: State after reset\n",
    "        \n",
    "        \"\"\"\n",
    "        env_info = self.env.reset(train_mode=True)[self.brain_name]\n",
    "        obs = env_info.vector_observations\n",
    "        states = [agent_state for agent_state in obs]\n",
    "        self.agent.reset()\n",
    "        \n",
    "        return states\n",
    "        \n",
    "        \n",
    "class Scorer:\n",
    "    \"\"\"Keeps track of the experiment scores\n",
    "    \n",
    "    Args:\n",
    "        num_agents (int): Number of agents\n",
    "        solved_threshold (float): \n",
    "        \n",
    "    \"\"\"\n",
    "    def __init__(self, num_agents, solved_threshold):\n",
    "        self.num_agents = num_agents\n",
    "        self.solved_threshold = solved_threshold\n",
    "        \n",
    "        self.scores_agent = [list() for i in range(self.num_agents)]\n",
    "        self.max_scores_deque = deque(maxlen = 100)\n",
    "        \n",
    "    def start_episode(self):\n",
    "        self.score = np.zeros(self.num_agents)\n",
    "        \n",
    "    def add_rewards(self, rewards):\n",
    "        self.score += rewards\n",
    "        \n",
    "    def finish_episode(self):\n",
    "        for agent_num in range(self.num_agents):\n",
    "            self.scores_agent[agent_num].append(self.score[agent_num])\n",
    "\n",
    "        self.max_scores_deque.append(np.max(self.score))\n",
    "\n",
    "    @property\n",
    "    def solved(self):\n",
    "        return self.average_score >= self.solved_threshold\n",
    "\n",
    "    @property\n",
    "    def average_score(self):\n",
    "        return np.mean(self.max_scores_deque)\n",
    "\n",
    "    @property\n",
    "    def scores(self):\n",
    "        return self.scores_agent"
   ]
  },
  {
   "cell_type": "code",
   "execution_count": 6,
   "metadata": {},
   "outputs": [
    {
     "name": "stdout",
     "output_type": "stream",
     "text": [
      "Experiment setup done\n",
      "Initialization done\n",
      "Episode 100\tAverage Score: 0.0039\tNoise Scale: 0.9896\n",
      "Episode 200\tAverage Score: 0.0038\tNoise Scale: 0.9413\n",
      "Episode 300\tAverage Score: 0.0087\tNoise Scale: 0.8954\n",
      "Episode 400\tAverage Score: 0.0403\tNoise Scale: 0.8517\n",
      "Episode 500\tAverage Score: 0.0586\tNoise Scale: 0.8101\n",
      "Episode 600\tAverage Score: 0.0507\tNoise Scale: 0.7706\n",
      "Episode 700\tAverage Score: 0.0705\tNoise Scale: 0.7330\n",
      "Episode 800\tAverage Score: 0.0816\tNoise Scale: 0.6973\n",
      "Episode 900\tAverage Score: 0.0818\tNoise Scale: 0.6633\n",
      "Episode 1000\tAverage Score: 0.0911\tNoise Scale: 0.6309\n",
      "Episode 1100\tAverage Score: 0.1132\tNoise Scale: 0.6001\n",
      "Episode 1200\tAverage Score: 0.1709\tNoise Scale: 0.5708\n",
      "Episode 1300\tAverage Score: 0.3001\tNoise Scale: 0.5430\n",
      "Episode 1400\tAverage Score: 0.4432\tNoise Scale: 0.5165\n",
      "Environment solved in 1414 episodes\tAverage Score: 0.5041\n"
     ]
    }
   ],
   "source": [
    "params = {\n",
    "    \"buffer_size\": int(1e6),        # Replay buffer size\n",
    "    \"batch_size\": 256,              # Minibatch size\n",
    "    \"update_every\": 15,             # Steps to wait between updates\n",
    "    \"update_batch_number\": 15,      # Number of batches used in one update step\n",
    "    \"random_seed\": 4,               # Seed\n",
    "    \"initialization_episodes\": 10,  # Number of episodes played with random agent\n",
    "    \"agent_params\": {\n",
    "        \"gamma\": 0.95,              # Discount factor\n",
    "        \"tau\": 5e-3,                # For soft update of target parameters\n",
    "        \"lr_actor\": 3e-4,           # Learning rate of the actor \n",
    "        \"lr_critic\": 1e-3,          # Learning rate of the critic\n",
    "        \"weight_decay\": 1e-6,       # L2 weight decay\n",
    "    },\n",
    "    \"network_params\": {\n",
    "        \"actor\": {\n",
    "            \"fc1_units\": 384,       # Number of unit in the first layer of the actor\n",
    "            \"fc2_units\": 256,       # Number of unit in the second layer of the actor\n",
    "        },\n",
    "        \"critic\": {\n",
    "            \"fc1_units\": 384,       # Number of unit in the first layer of the critic\n",
    "            \"fc2_units\": 256,       # Number of unit in the second layer of the critic\n",
    "        }\n",
    "    },\n",
    "    \"noise_params\": {\n",
    "        \"scale\": 1.0,               # Starting scale of the noise\n",
    "        \"mu\": 0,                    # Starting values of the noise\n",
    "        \"sigma\": 0.4,               # Scaler of the random term\n",
    "        \"theta\": 0.2,               # Scaler of the deterministic term\n",
    "        \"noise_reduction\": 0.9995,  # The noise is multiplied with this term after each step\n",
    "        \"min_noise\": 0.1,           # Minimum noise for the actions\n",
    "        \"initialization_steps\": 1000,  # Steps without noise reduction\n",
    "    },\n",
    "}\n",
    "\n",
    "\n",
    "agent_scores = Experiment(params, env, brain_name, checkpoint_path=\"checkpoints/maddpg_agent\").run()"
   ]
  },
  {
   "cell_type": "code",
   "execution_count": 7,
   "metadata": {},
   "outputs": [],
   "source": [
    "import matplotlib.pyplot as plt\n",
    "import seaborn as sns"
   ]
  },
  {
   "cell_type": "code",
   "execution_count": 8,
   "metadata": {},
   "outputs": [],
   "source": [
    "max_scores = [np.max(score) for score in zip(*agent_scores)]"
   ]
  },
  {
   "cell_type": "code",
   "execution_count": 9,
   "metadata": {},
   "outputs": [
    {
     "data": {
      "image/png": "[encoded data removed]",
      "text/plain": [
       "<matplotlib.figure.Figure at 0x7f65f17114e0>"
      ]
     },
     "metadata": {
      "needs_background": "light"
     },
     "output_type": "display_data"
    }
   ],
   "source": [
    "plt.figure(figsize=(12, 5))\n",
    "plt.plot(range(len(max_scores)), max_scores)\n",
    "plt.xlabel(\"Episode\")\n",
    "plt.ylabel(\"Score\")\n",
    "plt.savefig(\"solution.png\")"
   ]
  },
  {
   "cell_type": "code",
   "execution_count": null,
   "metadata": {},
   "outputs": [],
   "source": []
  }
 ],
 "metadata": {
  "kernelspec": {
   "display_name": "Python 3",
   "language": "python",
   "name": "python3"
  },
  "language_info": {
   "codemirror_mode": {
    "name": "ipython",
    "version": 3
   },
   "file_extension": ".py",
   "mimetype": "text/x-python",
   "name": "python",
   "nbconvert_exporter": "python",
   "pygments_lexer": "ipython3",
   "version": "3.6.3"
  }
 },
 "nbformat": 4,
 "nbformat_minor": 2
}
